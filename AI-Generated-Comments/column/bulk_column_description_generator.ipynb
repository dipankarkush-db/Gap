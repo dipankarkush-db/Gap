{
 "cells": [
  {
   "cell_type": "markdown",
   "metadata": {
    "application/vnd.databricks.v1+cell": {
     "cellMetadata": {
      "byteLimit": 2048000,
      "rowLimit": 10000
     },
     "inputWidgets": {},
     "nuid": "25ce2374-27ef-486f-bb3e-9f146b13beae",
     "showTitle": false,
     "tableResultSettingsMap": {},
     "title": ""
    }
   },
   "source": [
    "# Bulk table column description generator\n",
    "\n",
    "\n",
    "Customization required\n",
    "- Configure LLM prompt as required\n",
    "\n",
    "Authors\n",
    "- Scott Eade\n",
    "- Sierra Yap"
   ]
  },
  {
   "cell_type": "code",
   "execution_count": 0,
   "metadata": {
    "application/vnd.databricks.v1+cell": {
     "cellMetadata": {
      "byteLimit": 2048000,
      "rowLimit": 10000
     },
     "inputWidgets": {},
     "nuid": "35769a3c-6669-4e9e-8d5f-c396d24c3f1a",
     "showTitle": true,
     "tableResultSettingsMap": {},
     "title": "Set up parameters"
    }
   },
   "outputs": [],
   "source": [
    "dbutils.widgets.text(\"Catalog\", \"\", \"Enter Catalog Name (Mandatory):\")\n",
    "dbutils.widgets.text(\"Schema\", \"\", \"Enter Schema Name (Optional):\")\n",
    "dbutils.widgets.text(\"Table\", \"\", \"Enter Table Name (Optional):\")\n",
    "dbutils.widgets.text(\"Output Path\", \"\", \"Enter Output Path (Mandatory):\")\n",
    "dbutils.widgets.text(\"Model Serving Endpoint Name\", \"\", \"Model Serving Endpoint Name (Mandatory):\")"
   ]
  },
  {
   "cell_type": "code",
   "execution_count": 0,
   "metadata": {
    "application/vnd.databricks.v1+cell": {
     "cellMetadata": {
      "byteLimit": 2048000,
      "rowLimit": 10000
     },
     "inputWidgets": {},
     "nuid": "93091953-14e7-409b-a00d-9e4b1d2ac918",
     "showTitle": false,
     "tableResultSettingsMap": {},
     "title": ""
    }
   },
   "outputs": [],
   "source": [
    "catalog = dbutils.widgets.get(\"Catalog\")\n",
    "schema = dbutils.widgets.get(\"Schema\")\n",
    "table = dbutils.widgets.get(\"Table\")\n",
    "output_path = dbutils.widgets.get(\"Output Path\")\n",
    "endpoint_name = dbutils.widgets.get(\"Model Serving Endpoint Name\")"
   ]
  },
  {
   "cell_type": "code",
   "execution_count": 0,
   "metadata": {
    "application/vnd.databricks.v1+cell": {
     "cellMetadata": {
      "byteLimit": 2048000,
      "rowLimit": 10000
     },
     "inputWidgets": {},
     "nuid": "b6fe5004-f9bf-47b2-a6fe-57b6bb6fbc34",
     "showTitle": false,
     "tableResultSettingsMap": {},
     "title": ""
    }
   },
   "outputs": [],
   "source": [
    "print(f\"{catalog},{schema},{table},{output_path},{endpoint_name}\")"
   ]
  },
  {
   "cell_type": "code",
   "execution_count": 0,
   "metadata": {
    "application/vnd.databricks.v1+cell": {
     "cellMetadata": {
      "byteLimit": 2048000,
      "rowLimit": 10000
     },
     "inputWidgets": {},
     "nuid": "1247b656-5a1c-4fca-bf17-a56c4b21a993",
     "showTitle": false,
     "tableResultSettingsMap": {},
     "title": ""
    }
   },
   "outputs": [],
   "source": [
    "# Function to retrieve the table column comments for a given catalog, schema, table.\n",
    "def get_table_comments(catalog, schema=\"\", table=\"\"):\n",
    "  query = f\"\"\"\n",
    "    SELECT c.table_catalog, c.table_schema, c.table_name, c.column_name, c.ordinal_position, c.comment IS NULL or length(c.comment) == 0 AS replace_comment, c.comment AS existing_comment\n",
    "    , ai_query('{endpoint_name}', 'Generate a 1 sentence description of the type of information that the column \"' || c.column_name || '\" from the table \"' || c.table_name || '\" in schema \"' || c.table_schema || '\" within the catalog \"' || c.table_catalog || '\" would contain (the data type of the column is \"' || c.data_type || '\"). This will be used as a column description, so there is no need to mention that this is a column within a schema within a catalog.') AS new_comment\n",
    "    FROM system.information_schema.columns AS c\n",
    "    JOIN system.information_schema.tables AS t USING (table_catalog, table_schema, table_name)\n",
    "    WHERE table_catalog = :catalog\n",
    "    \"\"\"\n",
    "  if schema:\n",
    "    query += \" AND table_schema = :schema\"\n",
    "    if table:\n",
    "      query += \" AND table_name = :table\"\n",
    "  query += \" ORDER BY table_catalog, table_schema, table_name, ordinal_position\"\n",
    "  # query += \" LIMIT 5\"\n",
    "  table_comments = spark.sql(query, args = {\"catalog\": catalog, \"schema\": schema, \"table\": table})\n",
    "  return table_comments"
   ]
  },
  {
   "cell_type": "code",
   "execution_count": 0,
   "metadata": {
    "application/vnd.databricks.v1+cell": {
     "cellMetadata": {
      "byteLimit": 2048000,
      "rowLimit": 10000
     },
     "inputWidgets": {},
     "nuid": "3a4db910-c8d8-4743-805e-ddb0a45e28b0",
     "showTitle": false,
     "tableResultSettingsMap": {},
     "title": ""
    }
   },
   "outputs": [],
   "source": [
    "commented_columns = get_table_comments(catalog, schema, table)\n",
    "display(commented_columns)"
   ]
  },
  {
   "cell_type": "markdown",
   "metadata": {
    "application/vnd.databricks.v1+cell": {
     "cellMetadata": {},
     "inputWidgets": {},
     "nuid": "48d63a20-4655-4625-8f06-bb88ae55af48",
     "showTitle": false,
     "tableResultSettingsMap": {},
     "title": ""
    }
   },
   "source": [
    "### In case user wants to update some column comments after reviewing"
   ]
  },
  {
   "cell_type": "code",
   "execution_count": 0,
   "metadata": {
    "application/vnd.databricks.v1+cell": {
     "cellMetadata": {
      "byteLimit": 2048000,
      "rowLimit": 10000
     },
     "inputWidgets": {},
     "nuid": "71d18efe-e6d0-4053-91f9-868f49c71d47",
     "showTitle": false,
     "tableResultSettingsMap": {},
     "title": ""
    }
   },
   "outputs": [],
   "source": [
    "from pyspark.sql import functions as F\n",
    "\n",
    "# Example mapping of updates you want to apply\n",
    "# updates = [\n",
    "#     (catalog, \"fgac\", \"customer\", \"record_id\", \"This is the updated comment for customer's record_id.\"),\n",
    "#     (catalog, \"fgac\", \"customer_pii_data_parquet\", \"ssn\", \"This is the updated comment for SSN in customer_pii_data_parquet.\"),\n",
    "# ]\n",
    "\n",
    "updates = []\n",
    "\n",
    "if not updates:\n",
    "  commented_columns_updated=commented_columns\n",
    "else:\n",
    "  # Create a DataFrame with the updates\n",
    "  updates_df = spark.createDataFrame(updates, [\"table_catalog\", \"table_schema\", \"table_name\", \"column_name\", \"updated_comment\"])\n",
    "\n",
    "  # Left join with the original DataFrame\n",
    "  commented_columns_updated = (\n",
    "      commented_columns\n",
    "      .join(\n",
    "          updates_df,\n",
    "          on=[\"table_catalog\", \"table_schema\", \"table_name\", \"column_name\"],\n",
    "          how=\"left\"\n",
    "      )\n",
    "      .withColumn(\n",
    "          \"new_comment\",\n",
    "          F.when(F.col(\"updated_comment\").isNotNull(), F.col(\"updated_comment\"))\n",
    "          .otherwise(F.col(\"new_comment\"))\n",
    "      )\n",
    "      .drop(\"updated_comment\")  # cleanup temp column\n",
    "  )"
   ]
  },
  {
   "cell_type": "code",
   "execution_count": 0,
   "metadata": {
    "application/vnd.databricks.v1+cell": {
     "cellMetadata": {
      "byteLimit": 2048000,
      "rowLimit": 10000
     },
     "inputWidgets": {},
     "nuid": "56c1c983-52b5-4802-a945-d4a6c9605270",
     "showTitle": false,
     "tableResultSettingsMap": {},
     "title": ""
    }
   },
   "outputs": [],
   "source": [
    "display(commented_columns_updated)"
   ]
  },
  {
   "cell_type": "code",
   "execution_count": 0,
   "metadata": {
    "application/vnd.databricks.v1+cell": {
     "cellMetadata": {
      "byteLimit": 2048000,
      "rowLimit": 10000
     },
     "inputWidgets": {},
     "nuid": "389694c0-a8e3-47d3-a023-b5f7663edfb9",
     "showTitle": false,
     "tableResultSettingsMap": {},
     "title": ""
    }
   },
   "outputs": [],
   "source": [
    "# Choose your desired file format\n",
    "# commented_columns.coalesce(1).write.mode(\"overwrite\").option(\"header\", \"true\").csv(output_path + \"/csv\")\n",
    "commented_columns_updated.coalesce(1).write.mode(\"overwrite\").option(\"header\", \"true\").json(output_path + \"/json\")"
   ]
  }
 ],
 "metadata": {
  "application/vnd.databricks.v1+notebook": {
   "computePreferences": null,
   "dashboards": [],
   "environmentMetadata": {
    "base_environment": "",
    "environment_version": "2"
   },
   "inputWidgetPreferences": null,
   "language": "python",
   "notebookMetadata": {
    "mostRecentlyExecutedCommandWithImplicitDF": {
     "commandId": 5261002272465370,
     "dataframes": [
      "_sqldf"
     ]
    },
    "pythonIndentUnit": 2,
    "widgetLayout": [
     {
      "breakBefore": false,
      "name": "Catalog",
      "width": 260
     },
     {
      "breakBefore": false,
      "name": "Schema",
      "width": 260
     },
     {
      "breakBefore": false,
      "name": "Table",
      "width": 260
     },
     {
      "breakBefore": false,
      "name": "Output Path",
      "width": 260
     },
     {
      "breakBefore": false,
      "name": "Overwrite Columns",
      "width": 168
     },
     {
      "breakBefore": false,
      "name": "Generating Prompt",
      "width": 352
     },
     {
      "breakBefore": false,
      "name": "Additional Information",
      "width": 352
     }
    ]
   },
   "notebookName": "bulk_column_description_generator",
   "widgets": {
    "Catalog": {
     "currentValue": "dkushari_uc",
     "nuid": "b9885deb-d306-4dda-a77f-027aebfd37c1",
     "typedWidgetInfo": {
      "autoCreated": false,
      "defaultValue": "",
      "label": "Enter Catalog Name (Mandatory):",
      "name": "Catalog",
      "options": {
       "widgetDisplayType": "Text",
       "validationRegex": null
      },
      "parameterDataType": "String"
     },
     "widgetInfo": {
      "widgetType": "text",
      "defaultValue": "",
      "label": "Enter Catalog Name (Mandatory):",
      "name": "Catalog",
      "options": {
       "widgetType": "text",
       "autoCreated": null,
       "validationRegex": null
      }
     }
    },
    "Model Serving Endpoint Name": {
     "currentValue": "databricks-claude-3-7-sonnet",
     "nuid": "d6f422ef-c22d-4567-a3f6-82be668674cc",
     "typedWidgetInfo": {
      "autoCreated": false,
      "defaultValue": "",
      "label": "Model Serving Endpoint Name (Mandatory):",
      "name": "Model Serving Endpoint Name",
      "options": {
       "widgetDisplayType": "Text",
       "validationRegex": null
      },
      "parameterDataType": "String"
     },
     "widgetInfo": {
      "widgetType": "text",
      "defaultValue": "",
      "label": "Model Serving Endpoint Name (Mandatory):",
      "name": "Model Serving Endpoint Name",
      "options": {
       "widgetType": "text",
       "autoCreated": null,
       "validationRegex": null
      }
     }
    },
    "Output Path": {
     "currentValue": "/Volumes/dkushari_uc/fgac/bulk_comments/columns",
     "nuid": "9dbccc67-425b-41e4-ac3a-98f5d7db16ce",
     "typedWidgetInfo": {
      "autoCreated": false,
      "defaultValue": "",
      "label": "Enter Output Path (Mandatory):",
      "name": "Output Path",
      "options": {
       "widgetDisplayType": "Text",
       "validationRegex": null
      },
      "parameterDataType": "String"
     },
     "widgetInfo": {
      "widgetType": "text",
      "defaultValue": "",
      "label": "Enter Output Path (Mandatory):",
      "name": "Output Path",
      "options": {
       "widgetType": "text",
       "autoCreated": null,
       "validationRegex": null
      }
     }
    },
    "Schema": {
     "currentValue": "fgac",
     "nuid": "77e0720b-a517-4eec-ac80-09cfe3562767",
     "typedWidgetInfo": {
      "autoCreated": false,
      "defaultValue": "",
      "label": "Enter Schema Name (Optional):",
      "name": "Schema",
      "options": {
       "widgetDisplayType": "Text",
       "validationRegex": null
      },
      "parameterDataType": "String"
     },
     "widgetInfo": {
      "widgetType": "text",
      "defaultValue": "",
      "label": "Enter Schema Name (Optional):",
      "name": "Schema",
      "options": {
       "widgetType": "text",
       "autoCreated": null,
       "validationRegex": null
      }
     }
    },
    "Table": {
     "currentValue": "",
     "nuid": "9fc3c05f-d8d4-4e4e-8e1a-95268e66c373",
     "typedWidgetInfo": {
      "autoCreated": false,
      "defaultValue": "",
      "label": "Enter Table Name (Optional):",
      "name": "Table",
      "options": {
       "widgetDisplayType": "Text",
       "validationRegex": null
      },
      "parameterDataType": "String"
     },
     "widgetInfo": {
      "widgetType": "text",
      "defaultValue": "",
      "label": "Enter Table Name (Optional):",
      "name": "Table",
      "options": {
       "widgetType": "text",
       "autoCreated": null,
       "validationRegex": null
      }
     }
    }
   }
  },
  "language_info": {
   "name": "python"
  }
 },
 "nbformat": 4,
 "nbformat_minor": 0
}
