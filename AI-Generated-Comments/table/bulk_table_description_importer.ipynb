{
 "cells": [
  {
   "cell_type": "markdown",
   "metadata": {
    "application/vnd.databricks.v1+cell": {
     "cellMetadata": {
      "byteLimit": 2048000,
      "rowLimit": 10000
     },
     "inputWidgets": {},
     "nuid": "d13ec0b0-f5da-47c6-bcd6-1f36f849428b",
     "showTitle": false,
     "tableResultSettingsMap": {},
     "title": ""
    }
   },
   "source": [
    "**Run this notebook after running and validating the outputs of bulk_column_description_generator notebook**\\\n",
    "Provide the Catalog, and path that the column descriptions were written to (ending in csv or json)\n",
    "\n",
    "**Important:**\n",
    "Applying a comment to a table triggers an ALTER SQL command, which can disrupt Databricks pipelines and jobs."
   ]
  },
  {
   "cell_type": "code",
   "execution_count": 0,
   "metadata": {
    "application/vnd.databricks.v1+cell": {
     "cellMetadata": {
      "byteLimit": 2048000,
      "rowLimit": 10000
     },
     "inputWidgets": {},
     "nuid": "c01ce733-e346-4c72-83b2-235a3560d349",
     "showTitle": false,
     "tableResultSettingsMap": {},
     "title": ""
    }
   },
   "outputs": [],
   "source": [
    "dbutils.widgets.text(\"Catalog\", \"\", \"Enter Catalog Name (Mandatory):\")\n",
    "dbutils.widgets.text(\"Input Path\", \"\", \"Enter Input Path (Mandatory):\")  # Ends with /json or /csv to decide on file type\n",
    "dbutils.widgets.dropdown(\"Always Update Comments\", choices=[\"true\", \"false\"], defaultValue=\"true\", label=\"Always Update Comments (Optional):\")"
   ]
  },
  {
   "cell_type": "code",
   "execution_count": 0,
   "metadata": {
    "application/vnd.databricks.v1+cell": {
     "cellMetadata": {
      "byteLimit": 2048000,
      "rowLimit": 10000
     },
     "inputWidgets": {},
     "nuid": "6197f5ed-88c8-4971-a4a1-0dca7c91d894",
     "showTitle": false,
     "tableResultSettingsMap": {},
     "title": ""
    }
   },
   "outputs": [],
   "source": [
    "catalog = dbutils.widgets.get(\"Catalog\")\n",
    "output_path = dbutils.widgets.get(\"Input Path\")\n",
    "always_update = dbutils.widgets.get(\"Always Update Comments\").lower() == \"true\""
   ]
  },
  {
   "cell_type": "code",
   "execution_count": 0,
   "metadata": {
    "application/vnd.databricks.v1+cell": {
     "cellMetadata": {
      "byteLimit": 2048000,
      "rowLimit": 10000
     },
     "inputWidgets": {},
     "nuid": "7cb750b7-7e12-4c96-9fdc-1c7794cc56a2",
     "showTitle": false,
     "tableResultSettingsMap": {},
     "title": ""
    }
   },
   "outputs": [],
   "source": [
    "print(f\"{catalog},{output_path},{always_update}\")"
   ]
  },
  {
   "cell_type": "code",
   "execution_count": 0,
   "metadata": {
    "application/vnd.databricks.v1+cell": {
     "cellMetadata": {
      "byteLimit": 2048000,
      "rowLimit": 10000
     },
     "inputWidgets": {},
     "nuid": "38512180-e884-465f-aeb7-b4d2f5235d48",
     "showTitle": false,
     "tableResultSettingsMap": {},
     "title": ""
    }
   },
   "outputs": [],
   "source": [
    "from pyspark.sql.functions import col, concat, lit, regexp_replace"
   ]
  },
  {
   "cell_type": "code",
   "execution_count": 0,
   "metadata": {
    "application/vnd.databricks.v1+cell": {
     "cellMetadata": {
      "byteLimit": 2048000,
      "rowLimit": 10000
     },
     "inputWidgets": {},
     "nuid": "22f7f786-eecf-4707-8fdf-7d65c904328f",
     "showTitle": false,
     "tableResultSettingsMap": {},
     "title": ""
    }
   },
   "outputs": [],
   "source": [
    "if output_path.endswith(\"/csv\"):\n",
    "    commented_tables = spark.read.csv(output_path, header=True, inferSchema=True)\n",
    "elif output_path.endswith(\"/json\"):\n",
    "    commented_tables = spark.read.json(output_path)\n",
    "else:\n",
    "    raise Exception(\"Invalid Input Path. Must end with /csv or /json\")\n",
    "\n",
    "# Perform at least a basic validation by selecting the columns we are interested in\n",
    "# DONE (Sierra): Added in a regex to remove any single quotes from the generated new_comment\n",
    "if not always_update:\n",
    "    commented_tables = commented_tables.filter(\"replace_comment\").select(concat(col(\"table_catalog\"), lit('.'), col(\"table_schema\"), lit('.'), col(\"table_name\")).alias(\"full_table_name\"), \"table_name\", \"new_comment\").withColumn(\"cleaned_comment\", regexp_replace(\"new_comment\", \"'\", \"\"))\n",
    "else:\n",
    "    commented_tables = commented_tables.select(concat(col(\"table_catalog\"), lit('.'), col(\"table_schema\"), lit('.'), col(\"table_name\")).alias(\"full_table_name\"), \"table_name\", \"new_comment\").withColumn(\"cleaned_comment\", regexp_replace(\"new_comment\", \"'\", \"\"))\n",
    "\n",
    "display(commented_tables)"
   ]
  },
  {
   "cell_type": "code",
   "execution_count": 0,
   "metadata": {
    "application/vnd.databricks.v1+cell": {
     "cellMetadata": {
      "byteLimit": 2048000,
      "rowLimit": 10000
     },
     "inputWidgets": {},
     "nuid": "a6d7112a-1acb-4a79-866d-c9220e9561ab",
     "showTitle": false,
     "tableResultSettingsMap": {},
     "title": ""
    }
   },
   "outputs": [],
   "source": [
    "def apply_table_comment(full_table_name, cleaned_comment):\n",
    "    query = f\"COMMENT ON TABLE {full_table_name} IS '{cleaned_comment}'\"\n",
    "    \n",
    "    #try:\n",
    "    spark.sql(query)\n",
    "    #except Exception as e:\n",
    "    #    print(f\"Error executing query: {query}\")\n",
    "    #    print(f\"Error: {e}\")\n",
    "    #    return False\n",
    "    return True"
   ]
  },
  {
   "cell_type": "markdown",
   "metadata": {
    "application/vnd.databricks.v1+cell": {
     "cellMetadata": {
      "byteLimit": 2048000,
      "rowLimit": 10000
     },
     "inputWidgets": {},
     "nuid": "b8a63aa0-4c99-48ec-a305-8ffd554ca84e",
     "showTitle": false,
     "tableResultSettingsMap": {},
     "title": ""
    }
   },
   "source": [
    "**Important:**\n",
    "Applying a comment to a table triggers an ALTER SQL command, which can disrupt Databricks pipelines and jobs."
   ]
  },
  {
   "cell_type": "code",
   "execution_count": 0,
   "metadata": {
    "application/vnd.databricks.v1+cell": {
     "cellMetadata": {
      "byteLimit": 2048000,
      "rowLimit": 10000
     },
     "inputWidgets": {},
     "nuid": "dbe77c29-8002-4594-bcfa-d927b7fabb42",
     "showTitle": false,
     "tableResultSettingsMap": {},
     "title": ""
    }
   },
   "outputs": [],
   "source": [
    "# Using collect() brings all the data back to the driver, so this will be single threaded and hence slow.\n",
    "\n",
    "for row in commented_tables.collect():\n",
    "    full_table_name = row['full_table_name']\n",
    "    cleaned_comment = row['cleaned_comment']\n",
    "\n",
    "    if apply_table_comment(full_table_name, cleaned_comment):\n",
    "        continue\n",
    "    else:\n",
    "        break"
   ]
  }
 ],
 "metadata": {
  "application/vnd.databricks.v1+notebook": {
   "computePreferences": null,
   "dashboards": [],
   "environmentMetadata": {
    "base_environment": "",
    "environment_version": "2"
   },
   "inputWidgetPreferences": null,
   "language": "python",
   "notebookMetadata": {
    "mostRecentlyExecutedCommandWithImplicitDF": {
     "commandId": 2950507104492991,
     "dataframes": [
      "_sqldf"
     ]
    },
    "pythonIndentUnit": 2,
    "widgetLayout": [
     {
      "breakBefore": false,
      "name": "Catalog",
      "width": 168
     },
     {
      "breakBefore": false,
      "name": "Schema",
      "width": 168
     },
     {
      "breakBefore": false,
      "name": "Output Path",
      "width": 168
     }
    ]
   },
   "notebookName": "bulk_table_description_importer",
   "widgets": {
    "Always Update Comments": {
     "currentValue": "true",
     "nuid": "f2e9f272-d47c-4e42-ad86-4011785145ce",
     "typedWidgetInfo": {
      "autoCreated": false,
      "defaultValue": "true",
      "label": "Always Update Comments (Optional):",
      "name": "Always Update Comments",
      "options": {
       "widgetDisplayType": "Dropdown",
       "choices": [
        "true",
        "false"
       ],
       "fixedDomain": true,
       "multiselect": false
      },
      "parameterDataType": "String"
     },
     "widgetInfo": {
      "widgetType": "dropdown",
      "defaultValue": "true",
      "label": "Always Update Comments (Optional):",
      "name": "Always Update Comments",
      "options": {
       "widgetType": "dropdown",
       "autoCreated": null,
       "choices": [
        "true",
        "false"
       ]
      }
     }
    },
    "Catalog": {
     "currentValue": "dkushari_uc",
     "nuid": "7f2b241f-8878-42df-8cf8-89a471950299",
     "typedWidgetInfo": {
      "autoCreated": false,
      "defaultValue": "",
      "label": "Enter Catalog Name (Mandatory):",
      "name": "Catalog",
      "options": {
       "widgetDisplayType": "Text",
       "validationRegex": null
      },
      "parameterDataType": "String"
     },
     "widgetInfo": {
      "widgetType": "text",
      "defaultValue": "",
      "label": "Enter Catalog Name (Mandatory):",
      "name": "Catalog",
      "options": {
       "widgetType": "text",
       "autoCreated": null,
       "validationRegex": null
      }
     }
    },
    "Input Path": {
     "currentValue": "/Volumes/dkushari_uc/fgac/bulk_comments/tables/json",
     "nuid": "85895c28-19c4-4014-ad9b-0efcce98d5fa",
     "typedWidgetInfo": {
      "autoCreated": false,
      "defaultValue": "",
      "label": "Enter Input Path (Mandatory):",
      "name": "Input Path",
      "options": {
       "widgetDisplayType": "Text",
       "validationRegex": null
      },
      "parameterDataType": "String"
     },
     "widgetInfo": {
      "widgetType": "text",
      "defaultValue": "",
      "label": "Enter Input Path (Mandatory):",
      "name": "Input Path",
      "options": {
       "widgetType": "text",
       "autoCreated": null,
       "validationRegex": null
      }
     }
    }
   }
  },
  "language_info": {
   "name": "python"
  }
 },
 "nbformat": 4,
 "nbformat_minor": 0
}
