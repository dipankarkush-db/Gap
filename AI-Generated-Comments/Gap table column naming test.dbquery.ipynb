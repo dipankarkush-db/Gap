{
 "cells": [
  {
   "cell_type": "code",
   "execution_count": 0,
   "metadata": {
    "application/vnd.databricks.v1+cell": {
     "cellMetadata": {
      "byteLimit": 10485760,
      "rowLimit": 1000
     },
     "inputWidgets": {},
     "nuid": "6177bd56-f722-4707-a595-5a74fef397ff",
     "showTitle": false,
     "tableResultSettingsMap": {},
     "title": ""
    }
   },
   "outputs": [],
   "source": [
    "create table dkushari_uc.fgac.cust deep clone dkushari_uc.fgac.customer;\n",
    "\n",
    "ALTER TABLE dkushari_uc.fgac.cust SET TBLPROPERTIES ('delta.columnMapping.mode' = 'name');\n",
    "\n",
    "desc extended dkushari_uc.fgac.cust;\n",
    "\n",
    "alter table dkushari_uc.fgac.cust rename column record_id to rec_id;\n",
    "alter table dkushari_uc.fgac.cust rename column first_name  to fname;\n",
    "alter table dkushari_uc.fgac.cust rename column last_name  to lst_nm;\n",
    "alter table dkushari_uc.fgac.cust rename column date_of_birth to dob;\n",
    "-- alter table dkushari_uc.fgac.cust rename column age to age;\n",
    "alter table dkushari_uc.fgac.cust rename column sex to gender;\n",
    "alter table dkushari_uc.fgac.cust rename column address to addr;\n",
    "-- alter table dkushari_uc.fgac.cust rename column ssn to ssn;\n",
    "alter table dkushari_uc.fgac.cust rename column region to locality;\n",
    "\n"
   ]
  }
 ],
 "metadata": {
  "application/vnd.databricks.v1+notebook": {
   "computePreferences": null,
   "dashboards": [],
   "environmentMetadata": null,
   "inputWidgetPreferences": null,
   "language": "sql",
   "notebookMetadata": {
    "sqlQueryOptions": {
     "applyAutoLimit": true,
     "catalog": "ah_demos",
     "schema": "ah_demos"
    }
   },
   "notebookName": "Gap table column naming test.dbquery.ipynb",
   "widgets": {}
  },
  "language_info": {
   "name": "sql"
  }
 },
 "nbformat": 4,
 "nbformat_minor": 0
}
